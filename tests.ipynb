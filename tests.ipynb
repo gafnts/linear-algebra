{
 "cells": [
  {
   "attachments": {},
   "cell_type": "markdown",
   "metadata": {},
   "source": [
    "# Implementations"
   ]
  },
  {
   "cell_type": "code",
   "execution_count": 2,
   "metadata": {},
   "outputs": [],
   "source": [
    "import numpy as np"
   ]
  },
  {
   "attachments": {},
   "cell_type": "markdown",
   "metadata": {},
   "source": [
    "Yes, if you have a 1xm dimensional vector (let's call it x) and a dxm dimensional weight matrix (let's call it W), performing the matrix multiplication x * W^T results in a linear weighted combination. The transpose operation (W^T) turns the weight matrix into an mxd matrix, and multiplying it by the 1xm vector x produces a 1xd output vector.\n",
    "\n"
   ]
  },
  {
   "cell_type": "code",
   "execution_count": 34,
   "metadata": {},
   "outputs": [
    {
     "name": "stdout",
     "output_type": "stream",
     "text": [
      "feature vector:\n",
      "[1 2 3]\n",
      "weight matrix:\n",
      "[[1 2 3]\n",
      " [4 5 6]]\n",
      "vector shape: (3,)\n",
      "matrix shape: (2, 3)\n"
     ]
    }
   ],
   "source": [
    "x = np.array([1, 2, 3])\n",
    "\n",
    "W = np.array(\n",
    "    [[1, 2, 3], [4, 5, 6]]\n",
    ")\n",
    "\n",
    "print(\n",
    "    'feature vector:',\n",
    "    x, \n",
    "    'weight matrix:',\n",
    "    W,\n",
    "    f'vector shape: {x.shape}', \n",
    "    f'matrix shape: {W.shape}',\n",
    "    sep='\\n'\n",
    ")"
   ]
  },
  {
   "cell_type": "code",
   "execution_count": 35,
   "metadata": {},
   "outputs": [
    {
     "name": "stdout",
     "output_type": "stream",
     "text": [
      "output vector (weighted linear combination): [14 32]\n",
      "shape: (2,)\n"
     ]
    }
   ],
   "source": [
    "wlc = np.matmul(x, W.T)\n",
    "\n",
    "print(\n",
    "    f'output vector (weighted linear combination): {wlc}',\n",
    "    f'shape: {wlc.shape}',\n",
    "    sep='\\n'\n",
    ")"
   ]
  },
  {
   "attachments": {},
   "cell_type": "markdown",
   "metadata": {},
   "source": [
    "# Column spaces"
   ]
  },
  {
   "cell_type": "code",
   "execution_count": 6,
   "metadata": {},
   "outputs": [
    {
     "name": "stdout",
     "output_type": "stream",
     "text": [
      "[[1 1]\n",
      " [3 2]]\n",
      "[1 3]\n"
     ]
    }
   ],
   "source": [
    "matrix = np.array(\n",
    "    [[1, 1], [3, 2]]\n",
    ")\n",
    "\n",
    "print(matrix)\n",
    "\n",
    "a = matrix[:, 0]\n",
    "b = matrix[:, 1]\n",
    "\n"
   ]
  },
  {
   "cell_type": "code",
   "execution_count": 14,
   "metadata": {},
   "outputs": [
    {
     "name": "stdout",
     "output_type": "stream",
     "text": [
      "[[0.70710678]\n",
      " [0.70710678]]\n"
     ]
    }
   ],
   "source": [
    "A = np.array(\n",
    "    [[1, -1], [-2, 2]]\n",
    ")\n",
    "\n",
    "# Compute null space of A\n",
    "import scipy.linalg as la\n",
    "null_space = la.null_space(A)\n",
    "\n",
    "print(null_space)"
   ]
  },
  {
   "cell_type": "code",
   "execution_count": null,
   "metadata": {},
   "outputs": [],
   "source": []
  }
 ],
 "metadata": {
  "kernelspec": {
   "display_name": "ml39",
   "language": "python",
   "name": "python3"
  },
  "language_info": {
   "codemirror_mode": {
    "name": "ipython",
    "version": 3
   },
   "file_extension": ".py",
   "mimetype": "text/x-python",
   "name": "python",
   "nbconvert_exporter": "python",
   "pygments_lexer": "ipython3",
   "version": "3.9.12"
  },
  "orig_nbformat": 4
 },
 "nbformat": 4,
 "nbformat_minor": 2
}
